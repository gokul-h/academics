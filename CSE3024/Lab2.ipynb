{
 "cells": [
  {
   "cell_type": "markdown",
   "metadata": {},
   "source": [
    "# CSE3024 Web Mining Lab 2\n",
    ">Gokul H\n",
    ">20BCE1211\n",
    "---"
   ]
  },
  {
   "cell_type": "markdown",
   "metadata": {},
   "source": [
    "## Wikipedia content scrapper\n",
    "\n",
    "**Task:**\n",
    "Scrape a Wikipedia web page using requests and BeautifulSoup libraries. It may include tasks such as:\n",
    "1.\tExtraction of HTML code\n",
    "2.\tExtraction of different components of the  \tpage\n",
    "3.\tError handling\n",
    "4.\tHTML parsing\n"
   ]
  },
  {
   "cell_type": "markdown",
   "metadata": {},
   "source": [
    "## Approach 1\n",
    "Using request and BeautifulSoup"
   ]
  },
  {
   "cell_type": "code",
   "execution_count": 64,
   "metadata": {},
   "outputs": [],
   "source": [
    "from urllib.request import urlopen\n",
    "from bs4 import BeautifulSoup\n",
    "from urllib.error import HTTPError,URLError\n",
    "def getPage():\n",
    "    try:\n",
    "        requestedPageHTML = urlopen(input())\n",
    "    except HTTPError as e:\n",
    "        print(\"The Server has returned an HTTP Error\")\n",
    "    except URLError as e:\n",
    "        print(\"The URL could not be found!\")\n",
    "    else:\n",
    "        requestedPageBS = BeautifulSoup(requestedPageHTML.read(),'html.parser')\n",
    "        return requestedPageBS\n",
    "    return None\n",
    "#print(getPage())"
   ]
  },
  {
   "cell_type": "code",
   "execution_count": 65,
   "metadata": {},
   "outputs": [
    {
     "name": "stdout",
     "output_type": "stream",
     "text": [
      "https://en.wikipedia.org/wiki/Hurricane_Irene_(2005)\n",
      "<h1 class=\"firstHeading mw-first-heading\" id=\"firstHeading\"><span class=\"mw-page-title-main\">Hurricane Irene (2005)</span></h1>\n"
     ]
    }
   ],
   "source": [
    "def getTitle():\n",
    "    try:\n",
    "        title = getPage().body.h1\n",
    "    except AttributeError as e:\n",
    "        print(\"Error in getting title.\")\n",
    "        return None\n",
    "    return title\n",
    "print(getTitle())"
   ]
  },
  {
   "cell_type": "code",
   "execution_count": 66,
   "metadata": {},
   "outputs": [
    {
     "name": "stdout",
     "output_type": "stream",
     "text": [
      "https://en.wikipedia.org/wiki/Hurricane_Irene_(2005)\n",
      "Meteorological history\n",
      "Impact and records\n",
      "See also\n",
      "References\n",
      "External links\n"
     ]
    }
   ],
   "source": [
    "sectionList = getPage().findAll('span',{'class':'mw-headline'})\n",
    "for section in sectionList:\n",
    "    print(section.get_text())"
   ]
  },
  {
   "cell_type": "code",
   "execution_count": 67,
   "metadata": {},
   "outputs": [
    {
     "name": "stdout",
     "output_type": "stream",
     "text": [
      "https://en.wikipedia.org/wiki/Hurricane_Irene_(2005)\n"
     ]
    }
   ],
   "source": [
    "titles = getPage().find_all(['h1', 'h2','h3','h4','h5','h6'])\n",
    "#print([title for title in titles],end=\"\\n\")"
   ]
  },
  {
   "cell_type": "code",
   "execution_count": 68,
   "metadata": {},
   "outputs": [
    {
     "name": "stdout",
     "output_type": "stream",
     "text": [
      "https://en.wikipedia.org/wiki/Hurricane_Irene_(2005)\n",
      "//upload.wikimedia.org/wikipedia/en/thumb/e/e7/Cscr-featured.svg/20px-Cscr-featured.svg.png\n",
      "//upload.wikimedia.org/wikipedia/commons/thumb/0/08/Irene_2005-08-16.jpg/260px-Irene_2005-08-16.jpg\n",
      "//upload.wikimedia.org/wikipedia/commons/thumb/c/c0/Irene_2005_track.png/275px-Irene_2005_track.png\n",
      "//upload.wikimedia.org/wikipedia/commons/thumb/2/27/Disc_Plain_black.svg/18px-Disc_Plain_black.svg.png\n",
      "//upload.wikimedia.org/wikipedia/commons/thumb/2/21/Solid_black.svg/18px-Solid_black.svg.png\n",
      "//upload.wikimedia.org/wikipedia/commons/thumb/5/50/ArrowUp.svg/18px-ArrowUp.svg.png\n",
      "//upload.wikimedia.org/wikipedia/commons/thumb/3/35/Irene_AMO_2005226_lrg.jpg/220px-Irene_AMO_2005226_lrg.jpg\n",
      "//upload.wikimedia.org/wikipedia/commons/thumb/8/89/Cyclone_Catarina_from_the_ISS_on_March_26_2004.JPG/32px-Cyclone_Catarina_from_the_ISS_on_March_26_2004.JPG\n",
      "//upload.wikimedia.org/wikipedia/en/thumb/4/4a/Commons-logo.svg/30px-Commons-logo.svg.png\n",
      "//upload.wikimedia.org/wikipedia/commons/thumb/e/e0/2005_Atlantic_hurricane_season_summary_map.png/100px-2005_Atlantic_hurricane_season_summary_map.png\n",
      "//upload.wikimedia.org/wikipedia/en/thumb/9/96/Symbol_category_class.svg/16px-Symbol_category_class.svg.png\n",
      "//upload.wikimedia.org/wikipedia/en/thumb/e/e2/Symbol_portal_class.svg/16px-Symbol_portal_class.svg.png\n",
      "//en.wikipedia.org/wiki/Special:CentralAutoLogin/start?type=1x1\n",
      "/static/images/footer/wikimedia-button.png\n",
      "/static/images/footer/poweredby_mediawiki_88x31.png\n"
     ]
    }
   ],
   "source": [
    "imageList = getPage().findAll('img')\n",
    "for image in imageList:\n",
    "    print(image['src'],end=\"\\n\")"
   ]
  },
  {
   "cell_type": "markdown",
   "metadata": {},
   "source": [
    "## Approach 2\n",
    "Using the wikipedia API wrapper\n",
    "\n",
    "Algorithm:\n",
    "1. Input page url and extract page name from url\n",
    "2. Check if the page exist and load page, if not show error\n",
    "3. Display various components of page using inbuilt functions\n",
    "4. Display extracted page in text and HTML format"
   ]
  },
  {
   "cell_type": "code",
   "execution_count": 69,
   "metadata": {},
   "outputs": [
    {
     "name": "stdout",
     "output_type": "stream",
     "text": [
      "https://en.wikipedia.org/wiki/Hurricane_Irene_(2005)\n",
      "Page - Exists: True\n"
     ]
    }
   ],
   "source": [
    "import wikipediaapi\n",
    "wikiLanguage = wikipediaapi.Wikipedia('en')\n",
    "pageName = input().split('/').pop()\n",
    "requestedPage = wikiLanguage.page(pageName)\n",
    "print(\"Page - Exists: %s\" % requestedPage.exists())"
   ]
  },
  {
   "cell_type": "code",
   "execution_count": 70,
   "metadata": {},
   "outputs": [
    {
     "name": "stdout",
     "output_type": "stream",
     "text": [
      "Hurricane Irene was a long-lived Cape Ve\n"
     ]
    }
   ],
   "source": [
    "if requestedPage.exists():\n",
    "    print(requestedPage.text[:40])\n",
    "else:\n",
    "    print(\"Page not found!\")"
   ]
  },
  {
   "cell_type": "code",
   "execution_count": 71,
   "metadata": {},
   "outputs": [
    {
     "name": "stdout",
     "output_type": "stream",
     "text": [
      "Hurricane Irene (2005)\n"
     ]
    }
   ],
   "source": [
    "print(requestedPage.title)"
   ]
  },
  {
   "cell_type": "code",
   "execution_count": 72,
   "metadata": {},
   "outputs": [
    {
     "name": "stdout",
     "output_type": "stream",
     "text": [
      "Hurricane Irene was a long-lived Cape Ve\n"
     ]
    }
   ],
   "source": [
    "print(requestedPage.summary[:40])"
   ]
  },
  {
   "cell_type": "code",
   "execution_count": 73,
   "metadata": {},
   "outputs": [
    {
     "name": "stdout",
     "output_type": "stream",
     "text": [
      "https://en.wikipedia.org/wiki/Hurricane_Irene_(2005)\n"
     ]
    }
   ],
   "source": [
    "print(requestedPage.fullurl)"
   ]
  },
  {
   "cell_type": "code",
   "execution_count": 74,
   "metadata": {},
   "outputs": [
    {
     "name": "stdout",
     "output_type": "stream",
     "text": [
      "*: Meteorological history - Hurricane Irene began as a Cape Verde st\n",
      "*: Impact and records - As Hurricane Irene stayed well away from\n",
      "*: See also - List of Category 2 Atlantic hurricanes\n",
      "L\n",
      "*: References - \n",
      "*: External links - \n",
      "National Hurricane Center's archive on \n"
     ]
    }
   ],
   "source": [
    "def print_sections(sections, level=0):\n",
    "        for s in sections:\n",
    "                print(\"%s: %s - %s\" % (\"*\" * (level + 1), s.title, s.text[0:40]))\n",
    "                print_sections(s.sections, level + 1)\n",
    "print_sections(requestedPage.sections)"
   ]
  },
  {
   "cell_type": "code",
   "execution_count": 75,
   "metadata": {},
   "outputs": [],
   "source": [
    "# View Text version of page\n",
    "wiki_wiki = wikipediaapi.Wikipedia(\n",
    "    language='en',\n",
    "    extract_format=wikipediaapi.ExtractFormat.WIKI\n",
    ")\n",
    "text_version = wiki_wiki.page(pageName)\n",
    "#print(text_version.text)"
   ]
  },
  {
   "cell_type": "code",
   "execution_count": 76,
   "metadata": {},
   "outputs": [],
   "source": [
    "# View HTML version of page\n",
    "wiki_wiki = wikipediaapi.Wikipedia(\n",
    "    language='en',\n",
    "    extract_format=wikipediaapi.ExtractFormat.HTML\n",
    ")\n",
    "html_version = wiki_wiki.page(pageName)\n",
    "#print(html_version.text)"
   ]
  },
  {
   "cell_type": "markdown",
   "metadata": {},
   "source": [
    "References:\n",
    "1. https://github.com/martin-majlis/Wikipedia-API\n",
    "2. https://www.measurethat.net/Benchmarks/Show/4950/1/get-last-part-from-url-regex-vs-split-vs-substring\n",
    "3. https://github.com/REMitchell/python-scraping\n",
    "4. https://pypi.org/project/Wikipedia-API/\n"
   ]
  }
 ],
 "metadata": {
  "kernelspec": {
   "display_name": "Python 3 (ipykernel)",
   "language": "python",
   "name": "python3"
  },
  "language_info": {
   "codemirror_mode": {
    "name": "ipython",
    "version": 3
   },
   "file_extension": ".py",
   "mimetype": "text/x-python",
   "name": "python",
   "nbconvert_exporter": "python",
   "pygments_lexer": "ipython3",
   "version": "3.10.6"
  }
 },
 "nbformat": 4,
 "nbformat_minor": 1
}
