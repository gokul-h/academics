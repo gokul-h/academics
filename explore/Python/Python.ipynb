{
 "cells": [
  {
   "cell_type": "markdown",
   "metadata": {
    "collapsed": true,
    "pycharm": {
     "name": "#%% md\n"
    }
   },
   "source": [
    "# Math Module\n",
    "---"
   ]
  },
  {
   "cell_type": "code",
   "execution_count": 4,
   "metadata": {},
   "outputs": [
    {
     "name": "stdout",
     "output_type": "stream",
     "text": [
      "No\n",
      "Yes\n"
     ]
    }
   ],
   "source": [
    "t_case = int(input())\n",
    "for i in range(t_case):\n",
    "    digit_list = list(map(int,input().split()))\n",
    "    if 7 in digit_list:\n",
    "        print(\"Yes\")\n",
    "    else:\n",
    "        print(\"No\")"
   ]
  },
  {
   "cell_type": "code",
   "execution_count": 8,
   "metadata": {},
   "outputs": [
    {
     "name": "stdout",
     "output_type": "stream",
     "text": [
      "No\n",
      "Yes\n"
     ]
    }
   ],
   "source": [
    "for i in range(int(input())):\n",
    "    one = list(map(int,input().split()))\n",
    "    print(\"Yes\" if 7 in one else \"No\")"
   ]
  },
  {
   "cell_type": "code",
   "execution_count": 9,
   "metadata": {},
   "outputs": [
    {
     "name": "stdout",
     "output_type": "stream",
     "text": [
      "INDIA\n",
      "DRAW\n",
      "ENGLAND\n"
     ]
    }
   ],
   "source": [
    "for i in range(int(input())):\n",
    "    temp = list(map(int,input().split()))\n",
    "    if temp.count(2)>temp.count(1):\n",
    "        print(\"ENGLAND\")\n",
    "    elif temp.count(1)==temp.count(2):\n",
    "        print(\"DRAW\")\n",
    "    else:\n",
    "        print(\"INDIA\")"
   ]
  },
  {
   "cell_type": "markdown",
   "metadata": {
    "pycharm": {
     "name": "#%% md\n"
    }
   },
   "source": [
    "Functions:\n",
    "round floor ceil trunc\n",
    "\n",
    "round ()\n",
    "* breaks tie away from 0\n",
    "* Breaks tie to even number"
   ]
  },
  {
   "cell_type": "code",
   "execution_count": 20,
   "metadata": {
    "pycharm": {
     "name": "#%%\n"
    }
   },
   "outputs": [
    {
     "data": {
      "text/plain": [
       "3"
      ]
     },
     "execution_count": 20,
     "metadata": {},
     "output_type": "execute_result"
    }
   ],
   "source": [
    "import math\n",
    "round(math.pi)\n",
    "round(math.pi,9) #Second parameter is Precision\n",
    "math.floor(math.pi)\n",
    "math.ceil(math.pi)\n",
    "math.trunc(math.pi)"
   ]
  },
  {
   "cell_type": "markdown",
   "metadata": {},
   "source": [
    "## Trigonometry\n",
    "Functions:\n",
    "infinty = inf\n",
    "sin cos tan\n",
    "cosec = 1/sin()\n",
    "asin... sinh... asinh..."
   ]
  },
  {
   "cell_type": "code",
   "execution_count": 18,
   "metadata": {
    "pycharm": {
     "name": "#%%\n"
    }
   },
   "outputs": [
    {
     "data": {
      "text/plain": [
       "26.56505117707799"
      ]
     },
     "execution_count": 18,
     "metadata": {},
     "output_type": "execute_result"
    }
   ],
   "source": [
    "angle = math.radians(30)\n",
    "math.sin(angle)\n",
    "math.cos(angle)\n",
    "1/math.sin(angle)\n",
    "math.inf\n",
    "math.degrees(math.atan2(1,2))"
   ]
  },
  {
   "cell_type": "markdown",
   "metadata": {
    "pycharm": {
     "name": "#%% md\n"
    }
   },
   "source": [
    "## Timeit Module\n",
    "Measure Execution time of code snippets\n",
    "````commandline\n",
    "python -m timeit \"from math import pow\" \"for x in range(50000):b=pow(x,3)\"\n",
    "````\n",
    "````commandline\n",
    "python -m timeit \"for x in range(50000):b=x**3\"\n",
    "````"
   ]
  },
  {
   "cell_type": "markdown",
   "metadata": {
    "pycharm": {
     "name": "#%% md\n"
    }
   },
   "source": [
    "## Infinity and Not a number(Nan)\n",
    "functions defined to check if result i sinfinity or not a number"
   ]
  },
  {
   "cell_type": "code",
   "execution_count": 4,
   "metadata": {
    "pycharm": {
     "name": "#%%\n"
    }
   },
   "outputs": [
    {
     "data": {
      "text/plain": [
       "True"
      ]
     },
     "execution_count": 4,
     "metadata": {},
     "output_type": "execute_result"
    }
   ],
   "source": [
    "import math\n",
    "math.nan\n",
    "math.isinf(math.inf)\n"
   ]
  },
  {
   "cell_type": "code",
   "execution_count": 5,
   "metadata": {
    "pycharm": {
     "name": "#%%\n"
    }
   },
   "outputs": [
    {
     "data": {
      "text/plain": [
       "1.7976931348623157e+308"
      ]
     },
     "execution_count": 5,
     "metadata": {},
     "output_type": "execute_result"
    }
   ],
   "source": [
    "import sys\n",
    "sys.float_info.max\n"
   ]
  },
  {
   "cell_type": "code",
   "execution_count": 12,
   "metadata": {
    "pycharm": {
     "name": "#%%\n"
    }
   },
   "outputs": [
    {
     "name": "stdout",
     "output_type": "stream",
     "text": [
      "Division by Zero\n"
     ]
    }
   ],
   "source": [
    "try:\n",
    "    x=1/0\n",
    "    print(math.isnan(x))\n",
    "except ZeroDivisionError:\n",
    "    print(\"Division by Zero\")\n"
   ]
  },
  {
   "cell_type": "code",
   "execution_count": 13,
   "metadata": {
    "pycharm": {
     "name": "#%%\n"
    }
   },
   "outputs": [
    {
     "data": {
      "text/plain": [
       "nan"
      ]
     },
     "execution_count": 13,
     "metadata": {},
     "output_type": "execute_result"
    }
   ],
   "source": [
    "5*math.nan\n"
   ]
  },
  {
   "cell_type": "markdown",
   "metadata": {
    "pycharm": {
     "name": "#%% md\n"
    }
   },
   "source": [
    "## Logarithm\n",
    "math.log() is by default to base e  \n",
    "log log1p log10 log(x,base)"
   ]
  },
  {
   "cell_type": "code",
   "execution_count": 16,
   "metadata": {
    "pycharm": {
     "name": "#%%\n"
    }
   },
   "outputs": [
    {
     "data": {
      "text/plain": [
       "1.0"
      ]
     },
     "execution_count": 16,
     "metadata": {},
     "output_type": "execute_result"
    }
   ],
   "source": [
    "math.log10(10)\n"
   ]
  }
 ],
 "metadata": {
  "interpreter": {
   "hash": "0c6c9e5eb860225c5b918d083b9acae215e6e1648bb87d4fa566b11c96fcc0c6"
  },
  "kernelspec": {
   "display_name": "Python 3.8.5 32-bit",
   "name": "python3"
  },
  "language_info": {
   "codemirror_mode": {
    "name": "ipython",
    "version": 3
   },
   "file_extension": ".py",
   "mimetype": "text/x-python",
   "name": "python",
   "nbconvert_exporter": "python",
   "pygments_lexer": "ipython3",
   "version": "3.8.5"
  }
 },
 "nbformat": 4,
 "nbformat_minor": 1
}
